{
  "nbformat": 4,
  "nbformat_minor": 0,
  "metadata": {
    "colab": {
      "provenance": [],
      "toc_visible": true,
      "gpuType": "T4"
    },
    "kernelspec": {
      "name": "python3",
      "display_name": "Python 3"
    },
    "language_info": {
      "name": "python"
    },
    "accelerator": "GPU"
  },
  "cells": [
    {
      "cell_type": "markdown",
      "source": [
        "# Project 1 (MadLib Project)"
      ],
      "metadata": {
        "id": "8hftqafT3COw"
      }
    },
    {
      "cell_type": "code",
      "execution_count": 1,
      "metadata": {
        "colab": {
          "base_uri": "https://localhost:8080/"
        },
        "id": "upzvaD6v1kF6",
        "outputId": "b32eb517-57b6-4a62-cde1-9638a5ac6c49"
      },
      "outputs": [
        {
          "output_type": "stream",
          "name": "stdout",
          "text": [
            "Adjective: Addictive\n",
            "Verb: Code\n",
            "Verb: Enjoy\n",
            "Famous Person: Tim Berner Lee\n",
            "Computer programming is so Addictive! It makes me so excited all the time because I love to Code. Stay hydrated and Enjoy like you are Tim Berner Lee!\n"
          ]
        }
      ],
      "source": [
        "adj = input(\"Adjective: \")\n",
        "verb1 = input(\"Verb: \")\n",
        "verb2 = input(\"Verb: \")\n",
        "famous_person = input(\"Famous Person: \")\n",
        "\n",
        "madlib = f\"Computer programming is so {adj}! It makes me so excited all the time because \\\n",
        "I love to {verb1}. Stay hydrated and {verb2} like you are {famous_person}!\"\n",
        "\n",
        "print(madlib)"
      ]
    }
  ]
}
